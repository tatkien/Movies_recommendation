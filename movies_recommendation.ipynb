{
 "cells": [
  {
   "cell_type": "code",
   "execution_count": 1,
   "metadata": {},
   "outputs": [
    {
     "data": {
      "application/vnd.jupyter.widget-view+json": {
       "model_id": "f9d5f296219c40b2bfd76690ade23fdb",
       "version_major": 2,
       "version_minor": 0
      },
      "text/plain": [
       "Text(value='', description='Movie Title: ')"
      ]
     },
     "metadata": {},
     "output_type": "display_data"
    },
    {
     "data": {
      "application/vnd.jupyter.widget-view+json": {
       "model_id": "ac86982e908849f19c9ecaeaaf7f61c9",
       "version_major": 2,
       "version_minor": 0
      },
      "text/plain": [
       "Output()"
      ]
     },
     "metadata": {},
     "output_type": "display_data"
    }
   ],
   "source": [
    "\n",
    "import numpy as np\n",
    "import pandas as pd\n",
    "import re\n",
    "from sklearn.feature_extraction.text import CountVectorizer\n",
    "from sklearn.metrics.pairwise import cosine_similarity\n",
    "from IPython.display import display\n",
    "from ipywidgets import widgets\n",
    "\n",
    "# Load the data\n",
    "movies = pd.read_csv('movies.csv')\n",
    "ratings = pd.read_csv('ratings.csv')\n",
    "# Create a function to clean the data\n",
    "def clean_title(title):\n",
    "    return re.sub(\"[^a-zA-Z0-9 ]\", \"\", title)\n",
    "\n",
    "#Go through title column and clean the title\n",
    "movies[\"clean_title\"]=movies[\"title\"].apply(clean_title)\n",
    "\n",
    "vectorizer = CountVectorizer(ngram_range=(1,2))\n",
    "#Transform to matrix\n",
    "X = vectorizer.fit_transform(movies[\"clean_title\"])\n",
    "\n",
    "# Compute the cosine similarity matrix\n",
    "def search(title):\n",
    "    query = vectorizer.transform([clean_title(title)])\n",
    "    #Find similarity between search term\n",
    "    similarity = cosine_similarity(X, query).flatten()\n",
    "    #Find the top 5 highest values similarity\n",
    "    indices = np.argpartition(similarity, -5)[-5:]\n",
    "    results = movies.iloc[indices][::-1]\n",
    "    return results\n",
    "\n",
    "#Building a recommendation function\n",
    "def find_similar_movies(movie_id):\n",
    "    #Finding users who liked same movies\n",
    "    similar_users = ratings[(ratings[\"movieId\"]==movie_id) & (ratings[\"rating\"]>=4)][\"userId\"].unique()\n",
    "    \n",
    "    #Find others film of similar users\n",
    "    similar_users_rec = ratings[(ratings[\"userId\"].isin(similar_users)) & (ratings[\"rating\"]>=4)][\"movieId\"]\n",
    "\n",
    "    #Calculate percentage of recommended movies\n",
    "    similar_users_rec = similar_users_rec.value_counts() / len(similar_users)\n",
    "\n",
    "    #List movies greater than 20%\n",
    "    similar_users_rec = similar_users_rec[similar_users_rec >.2]\n",
    "    #Finding how much all users like movies\n",
    "    all_users = ratings[(ratings[\"movieId\"].isin(similar_users_rec.index)) & (ratings[\"rating\"] >=4)]\n",
    "\n",
    "    all_users_rec = all_users[\"movieId\"].value_counts() / len(all_users[\"userId\"].unique())\n",
    "    \n",
    "    #creating a recommendation score\n",
    "    rec_percentages = pd.concat([similar_users_rec, all_users_rec], axis=1)\n",
    "    rec_percentages.columns = [\"similar\", \"all\"]\n",
    "    #Score equal differential between similar and all, cause we\n",
    "    #are looking for movies that are liked by similar users but not by all\n",
    "    rec_percentages[\"score\"] = rec_percentages[\"similar\"]/rec_percentages[\"all\"]\n",
    "    rec_percentages = rec_percentages.sort_values(\"score\", ascending=False)\n",
    "    \n",
    "    return rec_percentages.head(10).merge(movies, left_index=True, right_on=\"movieId\")[[\"score\", \"title\", \"genres\"]]\n",
    "\n",
    "#Creating a recommendation widget\n",
    "movie_input_name = widgets.Text(\n",
    "    value=\"\",\n",
    "    description = \"Movie Title: \",\n",
    "    disabled=False\n",
    ")\n",
    "\n",
    "recommendation_list = widgets.Output()\n",
    "\n",
    "def on_button_clicked(data):\n",
    "    with recommendation_list:\n",
    "        recommendation_list.clear_output()\n",
    "        title = data[\"new\"]\n",
    "        if len(title)>5:\n",
    "            results = search(title)\n",
    "            movie_id = results.iloc[0][\"movieId\"]\n",
    "            display(find_similar_movies(movie_id))\n",
    "            \n",
    "movie_input_name.observe(on_button_clicked, names=\"value\")\n",
    "\n",
    "display(movie_input_name, recommendation_list)"
   ]
  }
 ],
 "metadata": {
  "kernelspec": {
   "display_name": "Python 3",
   "language": "python",
   "name": "python3"
  },
  "language_info": {
   "codemirror_mode": {
    "name": "ipython",
    "version": 3
   },
   "file_extension": ".py",
   "mimetype": "text/x-python",
   "name": "python",
   "nbconvert_exporter": "python",
   "pygments_lexer": "ipython3",
   "version": "3.12.6"
  }
 },
 "nbformat": 4,
 "nbformat_minor": 2
}
